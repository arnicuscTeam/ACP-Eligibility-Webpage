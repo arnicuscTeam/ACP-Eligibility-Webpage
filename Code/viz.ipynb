{
 "cells": [
  {
   "cell_type": "code",
   "execution_count": 18,
   "id": "initial_id",
   "metadata": {
    "collapsed": true,
    "ExecuteTime": {
     "end_time": "2023-09-14T06:48:15.724628200Z",
     "start_time": "2023-09-14T06:48:10.693131900Z"
    }
   },
   "outputs": [
    {
     "data": {
      "text/plain": "True"
     },
     "execution_count": 18,
     "metadata": {},
     "output_type": "execute_result"
    }
   ],
   "source": [
    "import webbrowser\n",
    "import pandas as pd\n",
    "import matplotlib.pyplot as plt\n",
    "import geopandas as gpd\n",
    "from geopy.geocoders import Nominatim\n",
    "import folium\n",
    "\n",
    "path_shape_file = \"../Data/ShapeFiles/States/tl_2022_us_state.shp\"\n",
    "\n",
    "# Read the Shapefile\n",
    "gdf = gpd.read_file(path_shape_file)\n",
    "\n",
    "# Convert to GeoJSON format\n",
    "# gdf.to_file('output.geojson', driver='GeoJSON')\n",
    "\n",
    "data = {\n",
    "    'NAME': ['West Virginia', 'California', 'Texas', 'Florida'],\n",
    "    'Population': [19530351, 39538223, 29145505, 21538187],\n",
    "}\n",
    "\n",
    "\n",
    "df_data = pd.DataFrame(data)\n",
    "\n",
    "merged_data = gdf.merge(df_data, left_on='NAME', right_on='NAME', how='left')\n",
    "\n",
    "# Create a map without specifying a center or zoom level\n",
    "m = folium.Map([37.090240,-95.712891], zoom_start=4)\n",
    "\n",
    "folium.GeoJson(\n",
    "    'output.geojson',\n",
    "    style_function=lambda feature: {\n",
    "        'fillColor': 'green',  # You can customize the state colors\n",
    "        'color': 'black',\n",
    "        'weight': 1,\n",
    "        'fillOpacity': 0.6,\n",
    "        'popup': f\"State: {feature['properties']['NAME']}<br>Population: {merged_data[merged_data['NAME'] == feature['properties']['NAME']]['Population'].values[0]}\"\n",
    "    }\n",
    ").add_to(m)\n",
    "\n",
    "m"
   ]
  },
  {
   "cell_type": "code",
   "execution_count": null,
   "outputs": [],
   "source": [],
   "metadata": {
    "collapsed": false
   },
   "id": "1c74c73ebd9087f6"
  }
 ],
 "metadata": {
  "kernelspec": {
   "display_name": "Python 3",
   "language": "python",
   "name": "python3"
  },
  "language_info": {
   "codemirror_mode": {
    "name": "ipython",
    "version": 2
   },
   "file_extension": ".py",
   "mimetype": "text/x-python",
   "name": "python",
   "nbconvert_exporter": "python",
   "pygments_lexer": "ipython2",
   "version": "2.7.6"
  }
 },
 "nbformat": 4,
 "nbformat_minor": 5
}
