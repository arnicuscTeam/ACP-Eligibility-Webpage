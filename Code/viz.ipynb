{
 "cells": [
  {
   "cell_type": "code",
   "execution_count": 40,
   "id": "initial_id",
   "metadata": {
    "collapsed": true,
    "ExecuteTime": {
     "end_time": "2023-09-14T23:17:25.459388400Z",
     "start_time": "2023-09-14T23:17:25.446341600Z"
    }
   },
   "outputs": [],
   "source": [
    "import os\n",
    "import urllib.request\n",
    "import zipfile\n",
    "import matplotlib.pyplot as plt\n",
    "import seaborn as sns\n",
    "\n",
    "import geopandas as gpd\n",
    "import pandas as pd\n",
    "import folium\n",
    "from branca.colormap import LinearColormap\n",
    "from streamlit_folium import folium_static as fs, st_folium as stf\n"
   ]
  },
  {
   "cell_type": "code",
   "execution_count": 41,
   "outputs": [],
   "source": [
    "def load_state_map(data_dir: str, eligibility_df: pd.DataFrame) -> folium.Map:\n",
    "    print(eligibility_df.isnull().values.any())\n",
    "    \n",
    "    eligibility_df[\"Total Change Percentage Eligible\"] = (eligibility_df[\"Current Percentage Eligible\"] -\n",
    "                                                          eligibility_df[\"New Percentage Eligible\"])\n",
    "\n",
    "    columns = eligibility_df.columns.tolist()\n",
    "\n",
    "    columns.remove(\"state\")\n",
    "    columns.insert(0, \"NAME\")\n",
    "\n",
    "    eligibility_df[\"state\"] = eligibility_df[\"state\"].astype(str).str.zfill(2)\n",
    "\n",
    "    state_shapefile = data_dir + 'ShapeFiles/States/tl_2022_us_state.shp'\n",
    "\n",
    "    # Read the Shapefile\n",
    "    gdf = gpd.read_file(state_shapefile)\n",
    "\n",
    "    merged_data = gdf.merge(eligibility_df, left_on='GEOID', right_on='state', how='left')\n",
    "\n",
    "    min_value = merged_data['Total Change Percentage Eligible'].min()\n",
    "    max_value = merged_data['Total Change Percentage Eligible'].max()\n",
    "    \n",
    "    print(min_value, max_value)\n",
    "    \n",
    "    # Print if there are any null values\n",
    "    print(merged_data['Total Change Percentage Eligible'].isnull().values.any())\n",
    "    \n",
    "    # Print all the rows where total change percentage eligible is null\n",
    "    print(len(merged_data[merged_data['Total Change Percentage Eligible'].isnull()]))\n",
    "    print(merged_data[merged_data['Total Change Percentage Eligible'].isnull()])\n",
    "\n",
    "    cmap = sns.color_palette(\"coolwarm\", as_cmap=True)  # You can choose a different palette\n",
    "    norm = plt.Normalize(vmin=min_value, vmax=max_value)\n",
    "\n",
    "    def color_function(feature):\n",
    "        value = feature['properties']['Total Change Percentage Eligible']\n",
    "        color = cmap(norm(value))\n",
    "        return f\"rgb({int(color[0] * 255)}, {int(color[1] * 255)}, {int(color[2] * 255)})\"\n",
    "\n",
    "\n",
    "    # Create a map without specifying a center or zoom level\n",
    "    m = folium.Map([37.090240, -95.712891], zoom_start=4)\n",
    "\n",
    "    folium.GeoJson(\n",
    "        merged_data,\n",
    "        style_function=lambda feature: {\n",
    "            'fillColor': color_function(feature),\n",
    "            'color': 'black',\n",
    "            'weight': 1,\n",
    "            'fillOpacity': 0.6\n",
    "        },\n",
    "        tooltip=folium.GeoJsonTooltip(fields=['NAME'], aliases=['State'], sticky=True),\n",
    "        popup=folium.GeoJsonPopup(fields=columns, localize=True),\n",
    "    ).add_to(m)\n",
    "\n",
    "    return m\n",
    "\n"
   ],
   "metadata": {
    "collapsed": false,
    "ExecuteTime": {
     "end_time": "2023-09-14T23:17:25.459388400Z",
     "start_time": "2023-09-14T23:17:25.452699500Z"
    }
   },
   "id": "1c74c73ebd9087f6"
  },
  {
   "cell_type": "code",
   "execution_count": 42,
   "outputs": [
    {
     "name": "stdout",
     "output_type": "stream",
     "text": [
      "False\n",
      "0.21000000000000085 1.8100000000000023\n",
      "True\n",
      "5\n",
      "   REGION DIVISION STATEFP   STATENS GEOID STUSPS  \\\n",
      "34      9        0      78  01802710    78     VI   \n",
      "35      9        0      69  01779809    69     MP   \n",
      "36      9        0      66  01802705    66     GU   \n",
      "41      9        0      60  01802701    60     AS   \n",
      "53      3        5      11  01702382    11     DC   \n",
      "\n",
      "                                            NAME LSAD  MTFCC FUNCSTAT  \\\n",
      "34                  United States Virgin Islands   00  G4000        A   \n",
      "35  Commonwealth of the Northern Mariana Islands   00  G4000        A   \n",
      "36                                          Guam   00  G4000        A   \n",
      "41                                American Samoa   00  G4000        A   \n",
      "53                          District of Columbia   00  G4000        A   \n",
      "\n",
      "        ALAND      AWATER     INTPTLAT      INTPTLON  \\\n",
      "34  348021909  1550236187  +18.3392359  -064.9500433   \n",
      "35  472292521  4644252458  +15.0010865  +145.6181702   \n",
      "36  543555849   934337453  +13.4417451  +144.7719021   \n",
      "41  197759069  1307243751  -14.2671590  -170.6682674   \n",
      "53  158316184    18709787  +38.9042474  -077.0165167   \n",
      "\n",
      "                                             geometry state  \\\n",
      "34  MULTIPOLYGON (((-64.76834 18.26033, -64.77074 ...   NaN   \n",
      "35  MULTIPOLYGON (((145.05897 14.12500, 145.06302 ...   NaN   \n",
      "36  POLYGON ((144.56343 13.44806, 144.56357 13.450...   NaN   \n",
      "41  MULTIPOLYGON (((-170.53809 -14.33613, -170.548...   NaN   \n",
      "53  POLYGON ((-77.11975 38.93435, -77.11886 38.935...   NaN   \n",
      "\n",
      "    Current Num Eligible  Current Num Ineligible  Current Percentage Eligible  \\\n",
      "34                   NaN                     NaN                          NaN   \n",
      "35                   NaN                     NaN                          NaN   \n",
      "36                   NaN                     NaN                          NaN   \n",
      "41                   NaN                     NaN                          NaN   \n",
      "53                   NaN                     NaN                          NaN   \n",
      "\n",
      "    New Percentage Eligible  difference_black  difference_percentage_black  \\\n",
      "34                      NaN               NaN                          NaN   \n",
      "35                      NaN               NaN                          NaN   \n",
      "36                      NaN               NaN                          NaN   \n",
      "41                      NaN               NaN                          NaN   \n",
      "53                      NaN               NaN                          NaN   \n",
      "\n",
      "    Total Change Percentage Eligible  \n",
      "34                               NaN  \n",
      "35                               NaN  \n",
      "36                               NaN  \n",
      "41                               NaN  \n",
      "53                               NaN  \n"
     ]
    }
   ],
   "source": [
    "df = pd.read_csv(\"percentage_eligible_has_pap_has_ssip_has_hins4_black-state.csv\")\n",
    "\n",
    "m = load_state_map(\"../Data/\", df)\n"
   ],
   "metadata": {
    "collapsed": false,
    "ExecuteTime": {
     "end_time": "2023-09-14T23:17:29.293564400Z",
     "start_time": "2023-09-14T23:17:25.456385200Z"
    }
   },
   "id": "b1777dc975ef24b8"
  },
  {
   "cell_type": "code",
   "execution_count": 46,
   "outputs": [
    {
     "name": "stdout",
     "output_type": "stream",
     "text": [
      "  STATEFP COUNTYFP  COUNTYNS  GEOID       NAME          NAMELSAD LSAD CLASSFP  \\\n",
      "0      31      039  00835841  31039     Cuming     Cuming County   06      H1   \n",
      "1      53      069  01513275  53069  Wahkiakum  Wahkiakum County   06      H1   \n",
      "2      35      011  00933054  35011    De Baca    De Baca County   06      H1   \n",
      "3      31      109  00835876  31109  Lancaster  Lancaster County   06      H1   \n",
      "4      31      129  00835886  31129   Nuckolls   Nuckolls County   06      H1   \n",
      "\n",
      "   MTFCC  CSAFP  CBSAFP  METDIVFP FUNCSTAT       ALAND    AWATER     INTPTLAT  \\\n",
      "0  G4020    NaN     NaN       NaN        A  1477644346  10691216  +41.9158651   \n",
      "1  G4020    NaN     NaN       NaN        A   680980770  61564427  +46.2946377   \n",
      "2  G4020    NaN     NaN       NaN        A  6016818946  29090018  +34.3592729   \n",
      "3  G4020    NaN     NaN       NaN        A  2169272978  22847034  +40.7835474   \n",
      "4  G4020    NaN     NaN       NaN        A  1489645185   1718484  +40.1764918   \n",
      "\n",
      "       INTPTLON                                           geometry  \n",
      "0  -096.7885168  POLYGON ((-96.55515 41.91587, -96.55515 41.914...  \n",
      "1  -123.4244583  POLYGON ((-123.72755 46.26449, -123.72755 46.2...  \n",
      "2  -104.3686961  POLYGON ((-104.89337 34.08894, -104.89337 34.0...  \n",
      "3  -096.6886584  POLYGON ((-96.68493 40.52330, -96.69219 40.523...  \n",
      "4  -098.0468422  POLYGON ((-98.27370 40.11840, -98.27374 40.122...  \n"
     ]
    }
   ],
   "source": [
    "metdiv = gpd.read_file(f\"zip://../Data/ShapeFiles/COUNTY/tl_2022_us_county.zip!tl_2022_us_county.shp\")\n",
    "\n",
    "print(metdiv.head())"
   ],
   "metadata": {
    "collapsed": false,
    "ExecuteTime": {
     "end_time": "2023-09-14T23:37:10.716111200Z",
     "start_time": "2023-09-14T23:37:02.621798800Z"
    }
   },
   "id": "59ecf022729bb09d"
  },
  {
   "cell_type": "code",
   "execution_count": null,
   "outputs": [],
   "source": [],
   "metadata": {
    "collapsed": false
   },
   "id": "bd0653c251e4ca41"
  }
 ],
 "metadata": {
  "kernelspec": {
   "display_name": "Python 3",
   "language": "python",
   "name": "python3"
  },
  "language_info": {
   "codemirror_mode": {
    "name": "ipython",
    "version": 2
   },
   "file_extension": ".py",
   "mimetype": "text/x-python",
   "name": "python",
   "nbconvert_exporter": "python",
   "pygments_lexer": "ipython2",
   "version": "2.7.6"
  }
 },
 "nbformat": 4,
 "nbformat_minor": 5
}
